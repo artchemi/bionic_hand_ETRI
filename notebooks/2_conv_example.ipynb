{
 "cells": [
  {
   "cell_type": "code",
   "execution_count": 2,
   "id": "b1003f9a",
   "metadata": {},
   "outputs": [],
   "source": [
    "import torch\n",
    "from torch import nn\n",
    "from scipy.io import loadmat\n",
    "import numpy as np"
   ]
  },
  {
   "cell_type": "code",
   "execution_count": 78,
   "id": "36d70352",
   "metadata": {},
   "outputs": [],
   "source": [
    "data = loadmat('s1/S1_E2_A1.mat')"
   ]
  },
  {
   "cell_type": "code",
   "execution_count": 79,
   "id": "e5cf1622",
   "metadata": {},
   "outputs": [
    {
     "data": {
      "text/plain": [
       "torch.Size([1, 1, 8, 52])"
      ]
     },
     "execution_count": 79,
     "metadata": {},
     "output_type": "execute_result"
    }
   ],
   "source": [
    "X_test = torch.tensor(data['emg'][:,0:8][:52]).unsqueeze(0).unsqueeze(1)    # [B, C_in, H, W]\n",
    "X_test = X_test.permute(0, 1, 3, 2)\n",
    "X_test.shape"
   ]
  },
  {
   "cell_type": "code",
   "execution_count": 89,
   "id": "26b34471",
   "metadata": {},
   "outputs": [],
   "source": [
    "filters = [32, 64]\n",
    "kernel_size = (3, 5)\n",
    "pool_size = (1, 3)\n",
    "\n",
    "model_1 = nn.Sequential(*[\n",
    "    nn.Conv2d(1, filters[0], kernel_size=(kernel_size)), nn.BatchNorm2d(filters[0]), \n",
    "    nn.PReLU(), nn.Dropout2d(0.2), nn.MaxPool2d(kernel_size=pool_size)\n",
    "])\n",
    "\n",
    "model_2 = nn.Sequential(*[\n",
    "    nn.Conv2d(32, filters[1], kernel_size=(kernel_size)), nn.BatchNorm2d(filters[1]), \n",
    "    nn.PReLU(), nn.Dropout2d(0.2), nn.MaxPool2d(kernel_size=pool_size)\n",
    "])"
   ]
  },
  {
   "cell_type": "code",
   "execution_count": 90,
   "id": "0beb10f3",
   "metadata": {},
   "outputs": [
    {
     "data": {
      "text/plain": [
       "torch.Size([1, 32, 6, 16])"
      ]
     },
     "execution_count": 90,
     "metadata": {},
     "output_type": "execute_result"
    }
   ],
   "source": [
    "X_1 = model_1(X_test)  # [B, C_in, H, W]\n",
    "X_1.shape"
   ]
  },
  {
   "cell_type": "code",
   "execution_count": 91,
   "id": "27bfcea9",
   "metadata": {},
   "outputs": [
    {
     "data": {
      "text/plain": [
       "torch.Size([1, 64, 4, 4])"
      ]
     },
     "execution_count": 91,
     "metadata": {},
     "output_type": "execute_result"
    }
   ],
   "source": [
    "X_2 = model_2(X_1)\n",
    "X_2.shape"
   ]
  },
  {
   "cell_type": "code",
   "execution_count": null,
   "id": "1ed6a56a",
   "metadata": {},
   "outputs": [],
   "source": []
  },
  {
   "cell_type": "code",
   "execution_count": null,
   "id": "4fe7ef27",
   "metadata": {},
   "outputs": [],
   "source": []
  }
 ],
 "metadata": {
  "kernelspec": {
   "display_name": ".venv",
   "language": "python",
   "name": "python3"
  },
  "language_info": {
   "codemirror_mode": {
    "name": "ipython",
    "version": 3
   },
   "file_extension": ".py",
   "mimetype": "text/x-python",
   "name": "python",
   "nbconvert_exporter": "python",
   "pygments_lexer": "ipython3",
   "version": "3.10.12"
  }
 },
 "nbformat": 4,
 "nbformat_minor": 5
}
