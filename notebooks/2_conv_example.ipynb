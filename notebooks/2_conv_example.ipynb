{
 "cells": [
  {
   "cell_type": "code",
   "execution_count": 2,
   "id": "b1003f9a",
   "metadata": {},
   "outputs": [],
   "source": [
    "import torch\n",
    "from torch import nn\n",
    "from scipy.io import loadmat\n",
    "import numpy as np\n",
    "import os, sys\n",
    "\n",
    "# Задаём путь к родительской директории вручную\n",
    "parent_dir = os.path.abspath(os.path.join(os.getcwd(), '..'))\n",
    "sys.path.append(parent_dir)\n",
    "\n",
    "\n",
    "from src.model import FullModel"
   ]
  },
  {
   "cell_type": "code",
   "execution_count": 4,
   "id": "1ed6a56a",
   "metadata": {},
   "outputs": [
    {
     "data": {
      "text/plain": [
       "FullModel(\n",
       "  (conv_encoder): ConvEncoder(\n",
       "    (conv_1): Sequential(\n",
       "      (0): Conv2d(1, 32, kernel_size=(3, 5), stride=(1, 1), padding=same)\n",
       "      (1): BatchNorm2d(32, eps=1e-05, momentum=0.1, affine=True, track_running_stats=True)\n",
       "      (2): PReLU(num_parameters=1)\n",
       "      (3): Dropout2d(p=0.2, inplace=False)\n",
       "      (4): MaxPool2d(kernel_size=(1, 3), stride=(1, 3), padding=0, dilation=1, ceil_mode=False)\n",
       "    )\n",
       "    (conv_2): Sequential(\n",
       "      (0): Conv2d(32, 64, kernel_size=(3, 5), stride=(1, 1), padding=same)\n",
       "      (1): BatchNorm2d(64, eps=1e-05, momentum=0.1, affine=True, track_running_stats=True)\n",
       "      (2): PReLU(num_parameters=1)\n",
       "      (3): Dropout2d(p=0.2, inplace=False)\n",
       "      (4): MaxPool2d(kernel_size=(1, 3), stride=(1, 3), padding=0, dilation=1, ceil_mode=False)\n",
       "    )\n",
       "    (flatten): Flatten(start_dim=1, end_dim=-1)\n",
       "  )\n",
       "  (ff_classifier): FFClassifier(\n",
       "    (ff_classifier): Sequential(\n",
       "      (0): Linear(in_features=1536, out_features=512, bias=True)\n",
       "      (1): PReLU(num_parameters=1)\n",
       "      (2): Linear(in_features=512, out_features=256, bias=True)\n",
       "      (3): PReLU(num_parameters=1)\n",
       "      (4): Linear(in_features=256, out_features=128, bias=True)\n",
       "      (5): PReLU(num_parameters=1)\n",
       "      (6): Linear(in_features=128, out_features=64, bias=True)\n",
       "      (7): PReLU(num_parameters=1)\n",
       "      (8): Linear(in_features=64, out_features=17, bias=True)\n",
       "    )\n",
       "  )\n",
       ")"
      ]
     },
     "execution_count": 4,
     "metadata": {},
     "output_type": "execute_result"
    }
   ],
   "source": [
    "model = FullModel()\n",
    "model"
   ]
  },
  {
   "cell_type": "code",
   "execution_count": null,
   "id": "4fe7ef27",
   "metadata": {},
   "outputs": [],
   "source": []
  }
 ],
 "metadata": {
  "kernelspec": {
   "display_name": ".venv",
   "language": "python",
   "name": "python3"
  },
  "language_info": {
   "codemirror_mode": {
    "name": "ipython",
    "version": 3
   },
   "file_extension": ".py",
   "mimetype": "text/x-python",
   "name": "python",
   "nbconvert_exporter": "python",
   "pygments_lexer": "ipython3",
   "version": "3.10.12"
  }
 },
 "nbformat": 4,
 "nbformat_minor": 5
}
