{
 "cells": [
  {
   "cell_type": "code",
   "execution_count": 12,
   "id": "b1003f9a",
   "metadata": {},
   "outputs": [],
   "source": [
    "import torch\n",
    "from torch import nn\n",
    "from torch.utils.data import DataLoader\n",
    "from scipy.io import loadmat\n",
    "import numpy as np\n",
    "import os, sys\n",
    "\n",
    "# Задаём путь к родительской директории вручную\n",
    "parent_dir = os.path.abspath(os.path.join(os.getcwd(), '..'))\n",
    "sys.path.append(parent_dir)\n",
    "\n",
    "\n",
    "from src.model import FullModel\n",
    "import src.utils\n",
    "from src.train import Trainer\n",
    "\n",
    "from src.dataset import (SurfaceEMGDataset, EMGTransform, extract_emg_labels, make_weighted_sampler, \n",
    "                     compute_stats, save_stats, load_stats, GlobalStandardizer, gestures)\n",
    "from config import (SUBJECTS, WINDOW_SIZE, GLOBAL_SEED, TRAIN_SIZE, BATCH_SIZE, GESTURE_INDEXES, \n",
    "                    LEARNING_RATE, EPOCHS, RUN_NAME, VALID_SIZE, EARLY_STOP_THRS)\n",
    "\n",
    "from sklearn.model_selection import train_test_split"
   ]
  },
  {
   "cell_type": "code",
   "execution_count": 2,
   "id": "1ed6a56a",
   "metadata": {},
   "outputs": [],
   "source": [
    "model = FullModel()"
   ]
  },
  {
   "cell_type": "code",
   "execution_count": 3,
   "id": "08c411b1",
   "metadata": {},
   "outputs": [
    {
     "data": {
      "text/plain": [
       "'/home/etri3060/1_CNN_gestures/bionic_hand_ETRI/notebooks'"
      ]
     },
     "execution_count": 3,
     "metadata": {},
     "output_type": "execute_result"
    }
   ],
   "source": [
    "os.getcwd()"
   ]
  },
  {
   "cell_type": "code",
   "execution_count": 4,
   "id": "4fe7ef27",
   "metadata": {},
   "outputs": [],
   "source": [
    "checkpoint = torch.load('../logs/model_1/best_model_57.pth')"
   ]
  },
  {
   "cell_type": "code",
   "execution_count": 5,
   "id": "e10af75b",
   "metadata": {},
   "outputs": [
    {
     "data": {
      "text/plain": [
       "<All keys matched successfully>"
      ]
     },
     "execution_count": 5,
     "metadata": {},
     "output_type": "execute_result"
    }
   ],
   "source": [
    "model.load_state_dict(checkpoint)"
   ]
  },
  {
   "cell_type": "code",
   "execution_count": 6,
   "id": "b0281e0b",
   "metadata": {},
   "outputs": [],
   "source": [
    "os.chdir('..')"
   ]
  },
  {
   "cell_type": "code",
   "execution_count": 7,
   "id": "5feb0ebc",
   "metadata": {},
   "outputs": [
    {
     "name": "stderr",
     "output_type": "stream",
     "text": [
      "100%|██████████| 10/10 [00:02<00:00,  4.30it/s]\n"
     ]
    }
   ],
   "source": [
    "emg, labels = extract_emg_labels(subjects=SUBJECTS, window_size=WINDOW_SIZE, onehot=False)\n",
    "emg, labels = gestures(\n",
    "        emg,\n",
    "        labels,\n",
    "        targets=[0,1,2,3],    # или любые твои метки\n",
    "        relax_shrink=80000,\n",
    "        rand_seed=GLOBAL_SEED\n",
    "    )\n",
    "\n",
    "# NOTE: Разделение данных на обучающую, валидационную и тестовую выборки\n",
    "emg_train, emg_tmp, labels_train, labels_tmp = train_test_split(emg, labels, train_size=TRAIN_SIZE, random_state=GLOBAL_SEED)\n",
    "emg_valid, emg_test, labels_valid, labels_test = train_test_split(emg_tmp, labels_tmp, train_size=VALID_SIZE, random_state=GLOBAL_SEED)"
   ]
  },
  {
   "cell_type": "code",
   "execution_count": 9,
   "id": "216d0f8e",
   "metadata": {},
   "outputs": [],
   "source": [
    "means, stds = load_stats('emg_stats.json')    # Импортируем stats и делаем стандартизатор\n",
    "standardizer = GlobalStandardizer(means, stds)"
   ]
  },
  {
   "cell_type": "code",
   "execution_count": 8,
   "id": "ed6084bf",
   "metadata": {},
   "outputs": [],
   "source": [
    "trainer = Trainer(model, device='cuda', lr=LEARNING_RATE)"
   ]
  },
  {
   "cell_type": "code",
   "execution_count": 13,
   "id": "99dfcc4f",
   "metadata": {},
   "outputs": [],
   "source": [
    "test_dataset = SurfaceEMGDataset(emg_test, labels_test, gestures=GESTURE_INDEXES, transform=standardizer)\n",
    "test_dataloader = DataLoader(test_dataset, batch_size=BATCH_SIZE, shuffle=True)"
   ]
  },
  {
   "cell_type": "code",
   "execution_count": 16,
   "id": "4e1fc5bb",
   "metadata": {},
   "outputs": [
    {
     "name": "stdout",
     "output_type": "stream",
     "text": [
      "0.9807405006304931\n",
      "0.9094987183138707\n",
      "0.9094987183138707\n"
     ]
    }
   ],
   "source": [
    "test_loss, test_acc, f1_test = trainer.evaluate(test_dataloader)\n",
    "\n",
    "print(test_loss)\n",
    "print(test_acc)\n",
    "print(f1_test)"
   ]
  },
  {
   "cell_type": "code",
   "execution_count": null,
   "id": "a3dbb417",
   "metadata": {},
   "outputs": [],
   "source": []
  }
 ],
 "metadata": {
  "kernelspec": {
   "display_name": ".venv",
   "language": "python",
   "name": "python3"
  },
  "language_info": {
   "codemirror_mode": {
    "name": "ipython",
    "version": 3
   },
   "file_extension": ".py",
   "mimetype": "text/x-python",
   "name": "python",
   "nbconvert_exporter": "python",
   "pygments_lexer": "ipython3",
   "version": "3.10.12"
  }
 },
 "nbformat": 4,
 "nbformat_minor": 5
}
